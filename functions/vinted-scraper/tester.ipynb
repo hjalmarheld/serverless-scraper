{
 "cells": [
  {
   "cell_type": "code",
   "execution_count": null,
   "metadata": {},
   "outputs": [],
   "source": [
    "import json\n",
    "import time\n",
    "import pprint\n",
    "import boto3\n",
    "import os\n",
    "import re\n",
    "from selenium import webdriver\n",
    "from headless_chrome import create_driver\n",
    "from botocore.exceptions import ClientError\n",
    "from collections import defaultdict\n",
    "from datetime import datetime, timezone\n",
    "\n",
    "from selenium.webdriver import Chrome\n",
    "\n",
    "\n",
    "from selenium.common.exceptions import TimeoutException\n",
    "from selenium.webdriver.support.ui import WebDriverWait\n",
    "from selenium.webdriver.support import expected_conditions as EC\n",
    "from selenium.webdriver.common.by import By\n",
    "\n",
    "\n",
    "driver = Chrome()\n",
    "driver.implicitly_wait(7)\n",
    "\n",
    "brands = [\"loro piana\"]"
   ]
  },
  {
   "cell_type": "code",
   "execution_count": null,
   "metadata": {},
   "outputs": [],
   "source": [
    "def scrape_articles():\n",
    "    raw_articles = []\n",
    "    baseUrl = \"https://www.vinted.se/catalog?search_text={}&order=newest_first&catalog[]=5&page=1\"\n",
    "\n",
    "    for brand in brands:\n",
    "        print(f\"Scraping brand: {brand}\")\n",
    "        url = baseUrl.format(brand)\n",
    "        driver.get(url)\n",
    "\n",
    "        time.sleep(7)\n",
    "\n",
    "        content = [\n",
    "            element.get_attribute(\"outerHTML\")\n",
    "            for element in driver.find_elements(\n",
    "                By.CLASS_NAME, \"new-item-box__container\"\n",
    "            )\n",
    "        ]\n",
    "\n",
    "        print(len(content))\n",
    "        raw_articles.append(content)\n",
    "\n",
    "    print(\"----------------------\")\n",
    "    print(f\"Scraped listings: {len(raw_articles)}\")\n",
    "    return raw_articles"
   ]
  },
  {
   "cell_type": "code",
   "execution_count": 93,
   "metadata": {},
   "outputs": [
    {
     "name": "stdout",
     "output_type": "stream",
     "text": [
      "Scraping brand: loro piana\n",
      "156\n",
      "----------------------\n",
      "Scraped listings: 1\n"
     ]
    }
   ],
   "source": [
    "articles = scrape_articles()"
   ]
  },
  {
   "cell_type": "code",
   "execution_count": 97,
   "metadata": {},
   "outputs": [
    {
     "data": {
      "text/plain": [
       "'<div class=\"new-item-box__container\" data-testid=\"product-item-id-6644420216\"><div class=\"u-position-relative u-min-height-none u-flex-auto new-item-box__image-container\"><div class=\"new-item-box__image\"><div class=\"web_ui__Image__image web_ui__Image__cover web_ui__Image__portrait web_ui__Image__rounded web_ui__Image__scaled web_ui__Image__ratio\" data-testid=\"product-item-id-6644420216--image\" style=\"background-color: rgb(204, 207, 210);\"><img alt=\"T-shirt elegancki stylowy polo Loro Piana M, varumärke: Loro Piana, skick: Ny med prislapp, storlek: M, 534.87 kr, 569.11 kr inkluderar köparskydd\" class=\"web_ui__Image__content\" data-testid=\"product-item-id-6644420216--image--img\" src=\"https://images1.vinted.net/t/01_00eff_3n13GEFq8BZNbSRXcXD912bh/310x430/1751922202.jpeg?s=bc47a93aadc5abb5ccf35464aec24b6bf9ba53bd\"></div></div><div class=\"u-position-absolute u-right u-bottom u-zindex-bump\"><button aria-pressed=\"false\" aria-label=\"Lägg till i favoriter\" data-testid=\"product-item-id-6644420216--favourite\" type=\"button\" class=\"u-background-white u-flexbox u-align-items-center new-item-box__favourite-icon\"><span class=\"web_ui__Icon__icon web_ui__Icon__greyscale-level-2\" data-testid=\"favourite-icon\" style=\"width: 16px;\"><svg fill=\"none\" viewBox=\"0 0 16 16\" width=\"16\" height=\"16\" aria-hidden=\"true\"><path fill=\"currentColor\" d=\"M3.149 3.247c-1.03.662-1.462 1.67-1.392 2.79.073 1.146.68 2.425 1.797 3.477 1.608 1.515 3.4 2.968 4.31 3.688.081.064.19.064.271 0 .91-.72 2.702-2.173 4.31-3.688 1.117-1.052 1.725-2.331 1.798-3.476.07-1.12-.363-2.13-1.392-2.79-.576-.371-1.113-.498-1.591-.498-.673 0-1.317.366-1.843.819a6 6 0 0 0-.343.322l-.716.736a.5.5 0 0 1-.717 0l-.716-.736a5 5 0 0 0-.342-.322c-.526-.453-1.17-.819-1.843-.819-.48 0-1.015.127-1.591.497m-.811-1.262c.818-.526 1.636-.735 2.402-.735 1.2 0 2.186.634 2.822 1.182A7 7 0 0 1 8 2.845a7 7 0 0 1 .438-.413c.636-.548 1.621-1.182 2.822-1.182.765 0 1.583.21 2.402.735 1.529.983 2.18 2.535 2.078 4.147-.1 1.586-.92 3.206-2.267 4.474-1.654 1.559-3.485 3.043-4.407 3.772a1.715 1.715 0 0 1-2.132 0c-.922-.729-2.754-2.213-4.408-3.772C1.18 9.338.36 7.718.26 6.132.16 4.52.81 2.968 2.338 1.985\"></path></svg></span></button><span aria-live=\"polite\" class=\"u-visually-hidden\">Borttagen.</span></div><a href=\"https://www.vinted.se/items/6644420216-t-shirt-elegancki-stylowy-polo-loro-piana-m?referrer=catalog\" class=\"new-item-box__overlay new-item-box__overlay--clickable\" data-testid=\"product-item-id-6644420216--overlay-link\" title=\"T-shirt elegancki stylowy polo Loro Piana M, varumärke: Loro Piana, skick: Ny med prislapp, storlek: M, 534.87 kr, 569.11 kr inkluderar köparskydd\"><div></div></a></div><div class=\"new-item-box__summary\"><div class=\"web_ui__Cell__cell web_ui__Cell__tight\" role=\"presentation\"><div class=\"web_ui__Cell__content\"><div class=\"web_ui__Cell__body\"><div><div class=\"u-flexbox u-align-items-flex-start u-ui-padding-bottom-regular\"><div class=\"u-min-width-none u-flex-grow\"><div class=\"web_ui__Cell__cell web_ui__Cell__tight\" role=\"presentation\" data-testid=\"product-item-id-6644420216--description\"><div class=\"web_ui__Cell__content\"><div class=\"web_ui__Cell__body\" data-testid=\"product-item-id-6644420216--description--content\"><div class=\"u-flexbox u-justify-content-between\"><div class=\"new-item-box__description\"><p class=\"web_ui__Text__text web_ui__Text__caption web_ui__Text__left web_ui__Text__truncated\" data-testid=\"product-item-id-6644420216--description-title\">Loro Piana</p></div></div><div class=\"new-item-box__description\"><p class=\"web_ui__Text__text web_ui__Text__caption web_ui__Text__left web_ui__Text__truncated\" data-testid=\"product-item-id-6644420216--description-subtitle\">M · Ny med prislapp</p></div></div></div></div></div></div><div><div class=\"new-item-box__title\" data-testid=\"product-item-id-6644420216--title-container\"><div class=\"title-content\"><p class=\"web_ui__Text__text web_ui__Text__caption web_ui__Text__left web_ui__Text__muted\" data-testid=\"product-item-id-6644420216--price-text\">534,87&nbsp;kr</p></div></div><div data-testid=\"product-item-id-6644420216--breakdown\"><div class=\"u-flexbox u-align-items-flex-start\"><button class=\"u-flexbox u-align-items-center u-flex-wrap\" tabindex=\"0\" aria-label=\"569,11&nbsp;kr inkluderar köparskydd\" type=\"button\"><span class=\"u-flexbox u-align-items-baseline u-flex-wrap\"><span class=\"web_ui__Text__text web_ui__Text__subtitle web_ui__Text__left web_ui__Text__clickable web_ui__Text__underline-none\">569,11&nbsp;kr</span><span class=\"web_ui__Spacer__x-small web_ui__Spacer__vertical\"></span><span class=\"web_ui__Text__text web_ui__Text__caption web_ui__Text__left web_ui__Text__clickable web_ui__Text__underline-none\" tabindex=\"-1\" data-testid=\"service-fee-included-title\">inkl.</span></span><span class=\"web_ui__Spacer__x-small web_ui__Spacer__vertical\"></span><span class=\"web_ui__Icon__icon web_ui__Icon__primary-default\" data-testid=\"service-fee-included-icon\" style=\"width: 12px;\"><svg fill=\"none\" viewBox=\"0 0 12 12\" width=\"12\" height=\"12\" aria-hidden=\"true\"><path fill=\"currentColor\" d=\"m7.924 4.114.708.707-2.829 2.828-2.121-2.121.707-.707 1.414 1.414z\"></path><path fill=\"currentColor\" fill-rule=\"evenodd\" d=\"M11 6c0 4.2-5 6-5 6s-5-1.8-5-6V1.8L6 0l5 1.8zM2 6V2.503l4-1.44 4 1.44V6c0 1.66-.98 2.902-2.115 3.787A9.4 9.4 0 0 1 6 10.917a9.368 9.368 0 0 1-1.885-1.13C2.981 8.902 2 7.66 2 6m3.66 5.06\" clip-rule=\"evenodd\"></path></svg></span></button></div><div class=\"web_ui__Spacer__small web_ui__Spacer__horizontal\"></div></div></div></div></div></div></div></div></div>'"
      ]
     },
     "execution_count": 97,
     "metadata": {},
     "output_type": "execute_result"
    }
   ],
   "source": [
    "articles[0][0]"
   ]
  },
  {
   "cell_type": "code",
   "execution_count": null,
   "metadata": {},
   "outputs": [],
   "source": [
    "content = [\n",
    "    element.get_attribute(\"outerHTML\")\n",
    "    for element in driver.find_elements(By.CLASS_NAME, \"new-item-box__container\")\n",
    "]"
   ]
  },
  {
   "cell_type": "code",
   "execution_count": null,
   "metadata": {},
   "outputs": [
    {
     "data": {
      "text/plain": [
       "'<div class=\"new-item-box__container\" data-testid=\"product-item-id-6643727739\"><div class=\"u-position-relative u-min-height-none u-flex-auto new-item-box__image-container\"><div class=\"new-item-box__image\"><div class=\"web_ui__Image__image web_ui__Image__cover web_ui__Image__portrait web_ui__Image__rounded web_ui__Image__scaled web_ui__Image__ratio\" data-testid=\"product-item-id-6643727739--image\" style=\"background-color: rgb(213, 212, 207);\"><img alt=\"Wełniana marynarka Loro Piana, varumärke: Loro Piana, skick: Bra, storlek: L, 309.09 kr, 332.04 kr inkluderar köparskydd\" class=\"web_ui__Image__content\" data-testid=\"product-item-id-6643727739--image--img\" src=\"https://images1.vinted.net/t/02_00e70_mGPR3MuTqBSFsPiCLbfot2oC/310x430/1751915314.jpeg?s=c88dc1d6822fddfe0bd716cf70c6a013b600f1af\"></div></div><div class=\"u-position-absolute u-right u-bottom u-zindex-bump\"><button aria-pressed=\"false\" aria-label=\"Lägg till i favoriter, favoritmarkerad av 1 användare.\" data-testid=\"product-item-id-6643727739--favourite\" type=\"button\" class=\"u-background-white u-flexbox u-align-items-center new-item-box__favourite-icon\"><span class=\"web_ui__Icon__icon web_ui__Icon__greyscale-level-2\" data-testid=\"favourite-icon\" style=\"width: 16px;\"><svg fill=\"none\" viewBox=\"0 0 16 16\" width=\"16\" height=\"16\" aria-hidden=\"true\"><path fill=\"currentColor\" d=\"M3.149 3.247c-1.03.662-1.462 1.67-1.392 2.79.073 1.146.68 2.425 1.797 3.477 1.608 1.515 3.4 2.968 4.31 3.688.081.064.19.064.271 0 .91-.72 2.702-2.173 4.31-3.688 1.117-1.052 1.725-2.331 1.798-3.476.07-1.12-.363-2.13-1.392-2.79-.576-.371-1.113-.498-1.591-.498-.673 0-1.317.366-1.843.819a6 6 0 0 0-.343.322l-.716.736a.5.5 0 0 1-.717 0l-.716-.736a5 5 0 0 0-.342-.322c-.526-.453-1.17-.819-1.843-.819-.48 0-1.015.127-1.591.497m-.811-1.262c.818-.526 1.636-.735 2.402-.735 1.2 0 2.186.634 2.822 1.182A7 7 0 0 1 8 2.845a7 7 0 0 1 .438-.413c.636-.548 1.621-1.182 2.822-1.182.765 0 1.583.21 2.402.735 1.529.983 2.18 2.535 2.078 4.147-.1 1.586-.92 3.206-2.267 4.474-1.654 1.559-3.485 3.043-4.407 3.772a1.715 1.715 0 0 1-2.132 0c-.922-.729-2.754-2.213-4.408-3.772C1.18 9.338.36 7.718.26 6.132.16 4.52.81 2.968 2.338 1.985\"></path></svg></span><div class=\"web_ui__Spacer__small web_ui__Spacer__vertical\"></div><span class=\"web_ui__Text__text web_ui__Text__caption web_ui__Text__left\">1</span></button><span aria-live=\"polite\" class=\"u-visually-hidden\">Borttagen.</span></div><a href=\"https://www.vinted.se/items/6643727739-welniana-marynarka-loro-piana?referrer=catalog\" class=\"new-item-box__overlay new-item-box__overlay--clickable\" data-testid=\"product-item-id-6643727739--overlay-link\" title=\"Wełniana marynarka Loro Piana, varumärke: Loro Piana, skick: Bra, storlek: L, 309.09 kr, 332.04 kr inkluderar köparskydd\"><div></div></a></div><div class=\"new-item-box__summary\"><div class=\"web_ui__Cell__cell web_ui__Cell__tight\" role=\"presentation\"><div class=\"web_ui__Cell__content\"><div class=\"web_ui__Cell__body\"><div><div class=\"u-flexbox u-align-items-flex-start u-ui-padding-bottom-regular\"><div class=\"u-min-width-none u-flex-grow\"><div class=\"web_ui__Cell__cell web_ui__Cell__tight\" role=\"presentation\" data-testid=\"product-item-id-6643727739--description\"><div class=\"web_ui__Cell__content\"><div class=\"web_ui__Cell__body\" data-testid=\"product-item-id-6643727739--description--content\"><div class=\"u-flexbox u-justify-content-between\"><div class=\"new-item-box__description\"><p class=\"web_ui__Text__text web_ui__Text__caption web_ui__Text__left web_ui__Text__truncated\" data-testid=\"product-item-id-6643727739--description-title\">Loro Piana</p></div></div><div class=\"new-item-box__description\"><p class=\"web_ui__Text__text web_ui__Text__caption web_ui__Text__left web_ui__Text__truncated\" data-testid=\"product-item-id-6643727739--description-subtitle\">L · Bra</p></div></div></div></div></div></div><div><div class=\"new-item-box__title\" data-testid=\"product-item-id-6643727739--title-container\"><div class=\"title-content\"><p class=\"web_ui__Text__text web_ui__Text__caption web_ui__Text__left web_ui__Text__muted\" data-testid=\"product-item-id-6643727739--price-text\">309,09&nbsp;kr</p></div></div><div data-testid=\"product-item-id-6643727739--breakdown\"><div class=\"u-flexbox u-align-items-flex-start\"><button class=\"u-flexbox u-align-items-center u-flex-wrap\" tabindex=\"0\" aria-label=\"332,04&nbsp;kr inkluderar köparskydd\" type=\"button\"><span class=\"u-flexbox u-align-items-baseline u-flex-wrap\"><span class=\"web_ui__Text__text web_ui__Text__subtitle web_ui__Text__left web_ui__Text__clickable web_ui__Text__underline-none\">332,04&nbsp;kr</span><span class=\"web_ui__Spacer__x-small web_ui__Spacer__vertical\"></span><span class=\"web_ui__Text__text web_ui__Text__caption web_ui__Text__left web_ui__Text__clickable web_ui__Text__underline-none\" tabindex=\"-1\" data-testid=\"service-fee-included-title\">inkl.</span></span><span class=\"web_ui__Spacer__x-small web_ui__Spacer__vertical\"></span><span class=\"web_ui__Icon__icon web_ui__Icon__primary-default\" data-testid=\"service-fee-included-icon\" style=\"width: 12px;\"><svg fill=\"none\" viewBox=\"0 0 12 12\" width=\"12\" height=\"12\" aria-hidden=\"true\"><path fill=\"currentColor\" d=\"m7.924 4.114.708.707-2.829 2.828-2.121-2.121.707-.707 1.414 1.414z\"></path><path fill=\"currentColor\" fill-rule=\"evenodd\" d=\"M11 6c0 4.2-5 6-5 6s-5-1.8-5-6V1.8L6 0l5 1.8zM2 6V2.503l4-1.44 4 1.44V6c0 1.66-.98 2.902-2.115 3.787A9.4 9.4 0 0 1 6 10.917a9.368 9.368 0 0 1-1.885-1.13C2.981 8.902 2 7.66 2 6m3.66 5.06\" clip-rule=\"evenodd\"></path></svg></span></button></div><div class=\"web_ui__Spacer__small web_ui__Spacer__horizontal\"></div></div></div></div></div></div></div></div></div>'"
      ]
     },
     "execution_count": 87,
     "metadata": {},
     "output_type": "execute_result"
    }
   ],
   "source": [
    "content[0].get_attribute(\"outerHTML\")"
   ]
  },
  {
   "cell_type": "code",
   "execution_count": 85,
   "metadata": {},
   "outputs": [
    {
     "data": {
      "text/plain": [
       "'<div class=\"new-item-box__container\" data-testid=\"product-item-id-6643727739\"><div class=\"u-position-relative u-min-height-none u-flex-auto new-item-box__image-container\"><div class=\"new-item-box__image\"><div class=\"web_ui__Image__image web_ui__Image__cover web_ui__Image__portrait web_ui__Image__rounded web_ui__Image__scaled web_ui__Image__ratio\" data-testid=\"product-item-id-6643727739--image\" style=\"background-color: rgb(213, 212, 207);\"><img alt=\"Wełniana marynarka Loro Piana, varumärke: Loro Piana, skick: Bra, storlek: L, 309.09 kr, 332.04 kr inkluderar köparskydd\" class=\"web_ui__Image__content\" data-testid=\"product-item-id-6643727739--image--img\" src=\"https://images1.vinted.net/t/02_00e70_mGPR3MuTqBSFsPiCLbfot2oC/310x430/1751915314.jpeg?s=c88dc1d6822fddfe0bd716cf70c6a013b600f1af\"></div></div><div class=\"u-position-absolute u-right u-bottom u-zindex-bump\"><button aria-pressed=\"false\" aria-label=\"Lägg till i favoriter, favoritmarkerad av 1 användare.\" data-testid=\"product-item-id-6643727739--favourite\" type=\"button\" class=\"u-background-white u-flexbox u-align-items-center new-item-box__favourite-icon\"><span class=\"web_ui__Icon__icon web_ui__Icon__greyscale-level-2\" data-testid=\"favourite-icon\" style=\"width: 16px;\"><svg fill=\"none\" viewBox=\"0 0 16 16\" width=\"16\" height=\"16\" aria-hidden=\"true\"><path fill=\"currentColor\" d=\"M3.149 3.247c-1.03.662-1.462 1.67-1.392 2.79.073 1.146.68 2.425 1.797 3.477 1.608 1.515 3.4 2.968 4.31 3.688.081.064.19.064.271 0 .91-.72 2.702-2.173 4.31-3.688 1.117-1.052 1.725-2.331 1.798-3.476.07-1.12-.363-2.13-1.392-2.79-.576-.371-1.113-.498-1.591-.498-.673 0-1.317.366-1.843.819a6 6 0 0 0-.343.322l-.716.736a.5.5 0 0 1-.717 0l-.716-.736a5 5 0 0 0-.342-.322c-.526-.453-1.17-.819-1.843-.819-.48 0-1.015.127-1.591.497m-.811-1.262c.818-.526 1.636-.735 2.402-.735 1.2 0 2.186.634 2.822 1.182A7 7 0 0 1 8 2.845a7 7 0 0 1 .438-.413c.636-.548 1.621-1.182 2.822-1.182.765 0 1.583.21 2.402.735 1.529.983 2.18 2.535 2.078 4.147-.1 1.586-.92 3.206-2.267 4.474-1.654 1.559-3.485 3.043-4.407 3.772a1.715 1.715 0 0 1-2.132 0c-.922-.729-2.754-2.213-4.408-3.772C1.18 9.338.36 7.718.26 6.132.16 4.52.81 2.968 2.338 1.985\"></path></svg></span><div class=\"web_ui__Spacer__small web_ui__Spacer__vertical\"></div><span class=\"web_ui__Text__text web_ui__Text__caption web_ui__Text__left\">1</span></button><span aria-live=\"polite\" class=\"u-visually-hidden\">Borttagen.</span></div><a href=\"https://www.vinted.se/items/6643727739-welniana-marynarka-loro-piana?referrer=catalog\" class=\"new-item-box__overlay new-item-box__overlay--clickable\" data-testid=\"product-item-id-6643727739--overlay-link\" title=\"Wełniana marynarka Loro Piana, varumärke: Loro Piana, skick: Bra, storlek: L, 309.09 kr, 332.04 kr inkluderar köparskydd\"><div></div></a></div><div class=\"new-item-box__summary\"><div class=\"web_ui__Cell__cell web_ui__Cell__tight\" role=\"presentation\"><div class=\"web_ui__Cell__content\"><div class=\"web_ui__Cell__body\"><div><div class=\"u-flexbox u-align-items-flex-start u-ui-padding-bottom-regular\"><div class=\"u-min-width-none u-flex-grow\"><div class=\"web_ui__Cell__cell web_ui__Cell__tight\" role=\"presentation\" data-testid=\"product-item-id-6643727739--description\"><div class=\"web_ui__Cell__content\"><div class=\"web_ui__Cell__body\" data-testid=\"product-item-id-6643727739--description--content\"><div class=\"u-flexbox u-justify-content-between\"><div class=\"new-item-box__description\"><p class=\"web_ui__Text__text web_ui__Text__caption web_ui__Text__left web_ui__Text__truncated\" data-testid=\"product-item-id-6643727739--description-title\">Loro Piana</p></div></div><div class=\"new-item-box__description\"><p class=\"web_ui__Text__text web_ui__Text__caption web_ui__Text__left web_ui__Text__truncated\" data-testid=\"product-item-id-6643727739--description-subtitle\">L · Bra</p></div></div></div></div></div></div><div><div class=\"new-item-box__title\" data-testid=\"product-item-id-6643727739--title-container\"><div class=\"title-content\"><p class=\"web_ui__Text__text web_ui__Text__caption web_ui__Text__left web_ui__Text__muted\" data-testid=\"product-item-id-6643727739--price-text\">309,09&nbsp;kr</p></div></div><div data-testid=\"product-item-id-6643727739--breakdown\"><div class=\"u-flexbox u-align-items-flex-start\"><button class=\"u-flexbox u-align-items-center u-flex-wrap\" tabindex=\"0\" aria-label=\"332,04&nbsp;kr inkluderar köparskydd\" type=\"button\"><span class=\"u-flexbox u-align-items-baseline u-flex-wrap\"><span class=\"web_ui__Text__text web_ui__Text__subtitle web_ui__Text__left web_ui__Text__clickable web_ui__Text__underline-none\">332,04&nbsp;kr</span><span class=\"web_ui__Spacer__x-small web_ui__Spacer__vertical\"></span><span class=\"web_ui__Text__text web_ui__Text__caption web_ui__Text__left web_ui__Text__clickable web_ui__Text__underline-none\" tabindex=\"-1\" data-testid=\"service-fee-included-title\">inkl.</span></span><span class=\"web_ui__Spacer__x-small web_ui__Spacer__vertical\"></span><span class=\"web_ui__Icon__icon web_ui__Icon__primary-default\" data-testid=\"service-fee-included-icon\" style=\"width: 12px;\"><svg fill=\"none\" viewBox=\"0 0 12 12\" width=\"12\" height=\"12\" aria-hidden=\"true\"><path fill=\"currentColor\" d=\"m7.924 4.114.708.707-2.829 2.828-2.121-2.121.707-.707 1.414 1.414z\"></path><path fill=\"currentColor\" fill-rule=\"evenodd\" d=\"M11 6c0 4.2-5 6-5 6s-5-1.8-5-6V1.8L6 0l5 1.8zM2 6V2.503l4-1.44 4 1.44V6c0 1.66-.98 2.902-2.115 3.787A9.4 9.4 0 0 1 6 10.917a9.368 9.368 0 0 1-1.885-1.13C2.981 8.902 2 7.66 2 6m3.66 5.06\" clip-rule=\"evenodd\"></path></svg></span></button></div><div class=\"web_ui__Spacer__small web_ui__Spacer__horizontal\"></div></div></div></div></div></div></div></div></div>'"
      ]
     },
     "execution_count": 85,
     "metadata": {},
     "output_type": "execute_result"
    }
   ],
   "source": [
    "'<div class=\"new-item-box__container\" data-testid=\"product-item-id-6643727739\"><div class=\"u-position-relative u-min-height-none u-flex-auto new-item-box__image-container\"><div class=\"new-item-box__image\"><div class=\"web_ui__Image__image web_ui__Image__cover web_ui__Image__portrait web_ui__Image__rounded web_ui__Image__scaled web_ui__Image__ratio\" data-testid=\"product-item-id-6643727739--image\" style=\"background-color: rgb(213, 212, 207);\"><img alt=\"Wełniana marynarka Loro Piana, varumärke: Loro Piana, skick: Bra, storlek: L, 309.09 kr, 332.04 kr inkluderar köparskydd\" class=\"web_ui__Image__content\" data-testid=\"product-item-id-6643727739--image--img\" src=\"https://images1.vinted.net/t/02_00e70_mGPR3MuTqBSFsPiCLbfot2oC/310x430/1751915314.jpeg?s=c88dc1d6822fddfe0bd716cf70c6a013b600f1af\"></div></div><div class=\"u-position-absolute u-right u-bottom u-zindex-bump\"><button aria-pressed=\"false\" aria-label=\"Lägg till i favoriter, favoritmarkerad av 1 användare.\" data-testid=\"product-item-id-6643727739--favourite\" type=\"button\" class=\"u-background-white u-flexbox u-align-items-center new-item-box__favourite-icon\"><span class=\"web_ui__Icon__icon web_ui__Icon__greyscale-level-2\" data-testid=\"favourite-icon\" style=\"width: 16px;\"><svg fill=\"none\" viewBox=\"0 0 16 16\" width=\"16\" height=\"16\" aria-hidden=\"true\"><path fill=\"currentColor\" d=\"M3.149 3.247c-1.03.662-1.462 1.67-1.392 2.79.073 1.146.68 2.425 1.797 3.477 1.608 1.515 3.4 2.968 4.31 3.688.081.064.19.064.271 0 .91-.72 2.702-2.173 4.31-3.688 1.117-1.052 1.725-2.331 1.798-3.476.07-1.12-.363-2.13-1.392-2.79-.576-.371-1.113-.498-1.591-.498-.673 0-1.317.366-1.843.819a6 6 0 0 0-.343.322l-.716.736a.5.5 0 0 1-.717 0l-.716-.736a5 5 0 0 0-.342-.322c-.526-.453-1.17-.819-1.843-.819-.48 0-1.015.127-1.591.497m-.811-1.262c.818-.526 1.636-.735 2.402-.735 1.2 0 2.186.634 2.822 1.182A7 7 0 0 1 8 2.845a7 7 0 0 1 .438-.413c.636-.548 1.621-1.182 2.822-1.182.765 0 1.583.21 2.402.735 1.529.983 2.18 2.535 2.078 4.147-.1 1.586-.92 3.206-2.267 4.474-1.654 1.559-3.485 3.043-4.407 3.772a1.715 1.715 0 0 1-2.132 0c-.922-.729-2.754-2.213-4.408-3.772C1.18 9.338.36 7.718.26 6.132.16 4.52.81 2.968 2.338 1.985\"></path></svg></span><div class=\"web_ui__Spacer__small web_ui__Spacer__vertical\"></div><span class=\"web_ui__Text__text web_ui__Text__caption web_ui__Text__left\">1</span></button><span aria-live=\"polite\" class=\"u-visually-hidden\">Borttagen.</span></div><a href=\"https://www.vinted.se/items/6643727739-welniana-marynarka-loro-piana?referrer=catalog\" class=\"new-item-box__overlay new-item-box__overlay--clickable\" data-testid=\"product-item-id-6643727739--overlay-link\" title=\"Wełniana marynarka Loro Piana, varumärke: Loro Piana, skick: Bra, storlek: L, 309.09 kr, 332.04 kr inkluderar köparskydd\"><div></div></a></div><div class=\"new-item-box__summary\"><div class=\"web_ui__Cell__cell web_ui__Cell__tight\" role=\"presentation\"><div class=\"web_ui__Cell__content\"><div class=\"web_ui__Cell__body\"><div><div class=\"u-flexbox u-align-items-flex-start u-ui-padding-bottom-regular\"><div class=\"u-min-width-none u-flex-grow\"><div class=\"web_ui__Cell__cell web_ui__Cell__tight\" role=\"presentation\" data-testid=\"product-item-id-6643727739--description\"><div class=\"web_ui__Cell__content\"><div class=\"web_ui__Cell__body\" data-testid=\"product-item-id-6643727739--description--content\"><div class=\"u-flexbox u-justify-content-between\"><div class=\"new-item-box__description\"><p class=\"web_ui__Text__text web_ui__Text__caption web_ui__Text__left web_ui__Text__truncated\" data-testid=\"product-item-id-6643727739--description-title\">Loro Piana</p></div></div><div class=\"new-item-box__description\"><p class=\"web_ui__Text__text web_ui__Text__caption web_ui__Text__left web_ui__Text__truncated\" data-testid=\"product-item-id-6643727739--description-subtitle\">L · Bra</p></div></div></div></div></div></div><div><div class=\"new-item-box__title\" data-testid=\"product-item-id-6643727739--title-container\"><div class=\"title-content\"><p class=\"web_ui__Text__text web_ui__Text__caption web_ui__Text__left web_ui__Text__muted\" data-testid=\"product-item-id-6643727739--price-text\">309,09&nbsp;kr</p></div></div><div data-testid=\"product-item-id-6643727739--breakdown\"><div class=\"u-flexbox u-align-items-flex-start\"><button class=\"u-flexbox u-align-items-center u-flex-wrap\" tabindex=\"0\" aria-label=\"332,04&nbsp;kr inkluderar köparskydd\" type=\"button\"><span class=\"u-flexbox u-align-items-baseline u-flex-wrap\"><span class=\"web_ui__Text__text web_ui__Text__subtitle web_ui__Text__left web_ui__Text__clickable web_ui__Text__underline-none\">332,04&nbsp;kr</span><span class=\"web_ui__Spacer__x-small web_ui__Spacer__vertical\"></span><span class=\"web_ui__Text__text web_ui__Text__caption web_ui__Text__left web_ui__Text__clickable web_ui__Text__underline-none\" tabindex=\"-1\" data-testid=\"service-fee-included-title\">inkl.</span></span><span class=\"web_ui__Spacer__x-small web_ui__Spacer__vertical\"></span><span class=\"web_ui__Icon__icon web_ui__Icon__primary-default\" data-testid=\"service-fee-included-icon\" style=\"width: 12px;\"><svg fill=\"none\" viewBox=\"0 0 12 12\" width=\"12\" height=\"12\" aria-hidden=\"true\"><path fill=\"currentColor\" d=\"m7.924 4.114.708.707-2.829 2.828-2.121-2.121.707-.707 1.414 1.414z\"></path><path fill=\"currentColor\" fill-rule=\"evenodd\" d=\"M11 6c0 4.2-5 6-5 6s-5-1.8-5-6V1.8L6 0l5 1.8zM2 6V2.503l4-1.44 4 1.44V6c0 1.66-.98 2.902-2.115 3.787A9.4 9.4 0 0 1 6 10.917a9.368 9.368 0 0 1-1.885-1.13C2.981 8.902 2 7.66 2 6m3.66 5.06\" clip-rule=\"evenodd\"></path></svg></span></button></div><div class=\"web_ui__Spacer__small web_ui__Spacer__horizontal\"></div></div></div></div></div></div></div></div></div>'"
   ]
  },
  {
   "cell_type": "code",
   "execution_count": null,
   "metadata": {},
   "outputs": [
    {
     "data": {
      "text/plain": [
       "'309,09\\xa0kr'"
      ]
     },
     "execution_count": 49,
     "metadata": {},
     "output_type": "execute_result"
    }
   ],
   "source": [
    "p = (\n",
    "    articles[0]\n",
    "    .find(\n",
    "        \"p\",\n",
    "        class_=\"web_ui__Text__text web_ui__Text__caption web_ui__Text__left web_ui__Text__muted\",\n",
    "        attrs={\"data-testid\": lambda x: x and \"price-text\" in x},\n",
    "    )\n",
    "    .text\n",
    ")\n",
    "\n",
    "p"
   ]
  },
  {
   "cell_type": "code",
   "execution_count": 42,
   "metadata": {},
   "outputs": [
    {
     "data": {
      "text/plain": [
       "['£99.00']"
      ]
     },
     "execution_count": 42,
     "metadata": {},
     "output_type": "execute_result"
    }
   ],
   "source": [
    "p.contents"
   ]
  },
  {
   "cell_type": "code",
   "execution_count": 23,
   "metadata": {},
   "outputs": [
    {
     "data": {
      "text/plain": [
       "<div class=\"feed-grid__item\" data-testid=\"grid-item\"><div class=\"feed-grid__item-content\"><div class=\"u-flex-grow u-fill-width\"><div class=\"new-item-box__container\" data-testid=\"product-item-id-6642485319\"><div class=\"u-position-relative u-min-height-none u-flex-auto new-item-box__image-container\"><div class=\"new-item-box__image\"><div class=\"web_ui__Image__image web_ui__Image__cover web_ui__Image__portrait web_ui__Image__rounded web_ui__Image__scaled web_ui__Image__ratio\" data-testid=\"product-item-id-6642485319--image\" style=\"background-color: rgb(215, 210, 206);\"><img alt=\"Gio Genco Loro Piana Italy L mens cashmere coat, brand: Loro Piana, condition: Very good, size: L, £99.00, £104.65 includes Buyer Protection\" class=\"web_ui__Image__content\" data-testid=\"product-item-id-6642485319--image--img\" src=\"https://images1.vinted.net/t/03_0244f_S4VNnoudNNf9gUTU2jFioJKZ/310x430/1751905811.jpeg?s=42c2bf9514b0f09a44ce34cc4e3fdd30d67549de\"/></div></div><div class=\"u-position-absolute u-right u-bottom u-zindex-bump\"><button aria-label=\"Add to favourites, favourited by 6 users\" aria-pressed=\"false\" class=\"u-background-white u-flexbox u-align-items-center new-item-box__favourite-icon\" data-testid=\"product-item-id-6642485319--favourite\" type=\"button\"><span class=\"web_ui__Icon__icon web_ui__Icon__greyscale-level-2\" data-testid=\"favourite-icon\" style=\"width: 16px;\"><svg aria-hidden=\"true\" fill=\"none\" height=\"16\" viewbox=\"0 0 16 16\" width=\"16\"><path d=\"M3.149 3.247c-1.03.662-1.462 1.67-1.392 2.79.073 1.146.68 2.425 1.797 3.477 1.608 1.515 3.4 2.968 4.31 3.688.081.064.19.064.271 0 .91-.72 2.702-2.173 4.31-3.688 1.117-1.052 1.725-2.331 1.798-3.476.07-1.12-.363-2.13-1.392-2.79-.576-.371-1.113-.498-1.591-.498-.673 0-1.317.366-1.843.819a6 6 0 0 0-.343.322l-.716.736a.5.5 0 0 1-.717 0l-.716-.736a5 5 0 0 0-.342-.322c-.526-.453-1.17-.819-1.843-.819-.48 0-1.015.127-1.591.497m-.811-1.262c.818-.526 1.636-.735 2.402-.735 1.2 0 2.186.634 2.822 1.182A7 7 0 0 1 8 2.845a7 7 0 0 1 .438-.413c.636-.548 1.621-1.182 2.822-1.182.765 0 1.583.21 2.402.735 1.529.983 2.18 2.535 2.078 4.147-.1 1.586-.92 3.206-2.267 4.474-1.654 1.559-3.485 3.043-4.407 3.772a1.715 1.715 0 0 1-2.132 0c-.922-.729-2.754-2.213-4.408-3.772C1.18 9.338.36 7.718.26 6.132.16 4.52.81 2.968 2.338 1.985\" fill=\"currentColor\"></path></svg></span><div class=\"web_ui__Spacer__small web_ui__Spacer__vertical\"></div><span class=\"web_ui__Text__text web_ui__Text__caption web_ui__Text__left\">6</span></button><span aria-live=\"polite\" class=\"u-visually-hidden\">Removed!</span></div><a class=\"new-item-box__overlay new-item-box__overlay--clickable\" data-testid=\"product-item-id-6642485319--overlay-link\" href=\"https://www.vinted.co.uk/items/6642485319-gio-genco-loro-piana-italy-l-mens-cashmere-coat?referrer=catalog\" title=\"Gio Genco Loro Piana Italy L mens cashmere coat, brand: Loro Piana, condition: Very good, size: L, £99.00, £104.65 includes Buyer Protection\"><div></div></a></div><div class=\"new-item-box__summary\"><div class=\"web_ui__Cell__cell web_ui__Cell__tight\" role=\"presentation\"><div class=\"web_ui__Cell__content\"><div class=\"web_ui__Cell__body\"><div><div class=\"u-flexbox u-align-items-flex-start u-ui-padding-bottom-regular\"><div class=\"u-min-width-none u-flex-grow\"><div class=\"web_ui__Cell__cell web_ui__Cell__tight\" data-testid=\"product-item-id-6642485319--description\" role=\"presentation\"><div class=\"web_ui__Cell__content\"><div class=\"web_ui__Cell__body\" data-testid=\"product-item-id-6642485319--description--content\"><div class=\"u-flexbox u-justify-content-between\"><div class=\"new-item-box__description\"><p class=\"web_ui__Text__text web_ui__Text__caption web_ui__Text__left web_ui__Text__truncated\" data-testid=\"product-item-id-6642485319--description-title\">Loro Piana</p></div></div><div class=\"new-item-box__description\"><p class=\"web_ui__Text__text web_ui__Text__caption web_ui__Text__left web_ui__Text__truncated\" data-testid=\"product-item-id-6642485319--description-subtitle\">L · Very good</p></div></div></div></div></div></div><div><div class=\"new-item-box__title\" data-testid=\"product-item-id-6642485319--title-container\"><div class=\"title-content\"><p class=\"web_ui__Text__text web_ui__Text__caption web_ui__Text__left web_ui__Text__muted\" data-testid=\"product-item-id-6642485319--price-text\">£99.00</p></div></div><div data-testid=\"product-item-id-6642485319--breakdown\"><div class=\"u-flexbox u-align-items-flex-start\"><button aria-label=\"£104.65 includes Buyer Protection\" class=\"u-flexbox u-align-items-center u-flex-wrap\" tabindex=\"0\" type=\"button\"><span class=\"u-flexbox u-align-items-baseline u-flex-wrap\"><span class=\"web_ui__Text__text web_ui__Text__subtitle web_ui__Text__left web_ui__Text__clickable web_ui__Text__underline-none\">£104.65</span><span class=\"web_ui__Spacer__x-small web_ui__Spacer__vertical\"></span><span class=\"web_ui__Text__text web_ui__Text__caption web_ui__Text__left web_ui__Text__clickable web_ui__Text__underline-none\" data-testid=\"service-fee-included-title\" tabindex=\"-1\">incl.</span></span><span class=\"web_ui__Spacer__x-small web_ui__Spacer__vertical\"></span><span class=\"web_ui__Icon__icon web_ui__Icon__primary-default\" data-testid=\"service-fee-included-icon\" style=\"width: 12px;\"><svg aria-hidden=\"true\" fill=\"none\" height=\"12\" viewbox=\"0 0 12 12\" width=\"12\"><path d=\"m7.924 4.114.708.707-2.829 2.828-2.121-2.121.707-.707 1.414 1.414z\" fill=\"currentColor\"></path><path clip-rule=\"evenodd\" d=\"M11 6c0 4.2-5 6-5 6s-5-1.8-5-6V1.8L6 0l5 1.8zM2 6V2.503l4-1.44 4 1.44V6c0 1.66-.98 2.902-2.115 3.787A9.4 9.4 0 0 1 6 10.917a9.368 9.368 0 0 1-1.885-1.13C2.981 8.902 2 7.66 2 6m3.66 5.06\" fill=\"currentColor\" fill-rule=\"evenodd\"></path></svg></span></button></div><div class=\"web_ui__Spacer__small web_ui__Spacer__horizontal\"></div></div></div></div></div></div></div></div></div></div></div></div>"
      ]
     },
     "execution_count": 23,
     "metadata": {},
     "output_type": "execute_result"
    }
   ],
   "source": [
    "articles[0]"
   ]
  },
  {
   "cell_type": "code",
   "execution_count": 28,
   "metadata": {},
   "outputs": [
    {
     "ename": "SyntaxError",
     "evalue": "invalid character '·' (U+00B7) (3712218741.py, line 1)",
     "output_type": "error",
     "traceback": [
      "\u001b[0;36m  Cell \u001b[0;32mIn[28], line 1\u001b[0;36m\u001b[0m\n\u001b[0;31m    <div class=\"feed-grid__item\" data-testid=\"grid-item\"><div class=\"feed-grid__item-content\"><div class=\"u-flex-grow u-fill-width\"><div class=\"new-item-box__container\" data-testid=\"product-item-id-6642485319\"><div class=\"u-position-relative u-min-height-none u-flex-auto new-item-box__image-container\"><div class=\"new-item-box__image\"><div class=\"web_ui__Image__image web_ui__Image__cover web_ui__Image__portrait web_ui__Image__rounded web_ui__Image__scaled web_ui__Image__ratio\" data-testid=\"product-item-id-6642485319--image\" style=\"background-color: rgb(215, 210, 206);\"><img alt=\"Gio Genco Loro Piana Italy L mens cashmere coat, brand: Loro Piana, condition: Very good, size: L, £99.00, £104.65 includes Buyer Protection\" class=\"web_ui__Image__content\" data-testid=\"product-item-id-6642485319--image--img\" src=\"https://images1.vinted.net/t/03_0244f_S4VNnoudNNf9gUTU2jFioJKZ/310x430/1751905811.jpeg?s=42c2bf9514b0f09a44ce34cc4e3fdd30d67549de\"/></div></div><div class=\"u-position-absolute u-right u-bottom u-zindex-bump\"><button aria-label=\"Add to favourites, favourited by 6 users\" aria-pressed=\"false\" class=\"u-background-white u-flexbox u-align-items-center new-item-box__favourite-icon\" data-testid=\"product-item-id-6642485319--favourite\" type=\"button\"><span class=\"web_ui__Icon__icon web_ui__Icon__greyscale-level-2\" data-testid=\"favourite-icon\" style=\"width: 16px;\"><svg aria-hidden=\"true\" fill=\"none\" height=\"16\" viewbox=\"0 0 16 16\" width=\"16\"><path d=\"M3.149 3.247c-1.03.662-1.462 1.67-1.392 2.79.073 1.146.68 2.425 1.797 3.477 1.608 1.515 3.4 2.968 4.31 3.688.081.064.19.064.271 0 .91-.72 2.702-2.173 4.31-3.688 1.117-1.052 1.725-2.331 1.798-3.476.07-1.12-.363-2.13-1.392-2.79-.576-.371-1.113-.498-1.591-.498-.673 0-1.317.366-1.843.819a6 6 0 0 0-.343.322l-.716.736a.5.5 0 0 1-.717 0l-.716-.736a5 5 0 0 0-.342-.322c-.526-.453-1.17-.819-1.843-.819-.48 0-1.015.127-1.591.497m-.811-1.262c.818-.526 1.636-.735 2.402-.735 1.2 0 2.186.634 2.822 1.182A7 7 0 0 1 8 2.845a7 7 0 0 1 .438-.413c.636-.548 1.621-1.182 2.822-1.182.765 0 1.583.21 2.402.735 1.529.983 2.18 2.535 2.078 4.147-.1 1.586-.92 3.206-2.267 4.474-1.654 1.559-3.485 3.043-4.407 3.772a1.715 1.715 0 0 1-2.132 0c-.922-.729-2.754-2.213-4.408-3.772C1.18 9.338.36 7.718.26 6.132.16 4.52.81 2.968 2.338 1.985\" fill=\"currentColor\"></path></svg></span><div class=\"web_ui__Spacer__small web_ui__Spacer__vertical\"></div><span class=\"web_ui__Text__text web_ui__Text__caption web_ui__Text__left\">6</span></button><span aria-live=\"polite\" class=\"u-visually-hidden\">Removed!</span></div><a class=\"new-item-box__overlay new-item-box__overlay--clickable\" data-testid=\"product-item-id-6642485319--overlay-link\" href=\"https://www.vinted.co.uk/items/6642485319-gio-genco-loro-piana-italy-l-mens-cashmere-coat?referrer=catalog\" title=\"Gio Genco Loro Piana Italy L mens cashmere coat, brand: Loro Piana, condition: Very good, size: L, £99.00, £104.65 includes Buyer Protection\"><div></div></a></div><div class=\"new-item-box__summary\"><div class=\"web_ui__Cell__cell web_ui__Cell__tight\" role=\"presentation\"><div class=\"web_ui__Cell__content\"><div class=\"web_ui__Cell__body\"><div><div class=\"u-flexbox u-align-items-flex-start u-ui-padding-bottom-regular\"><div class=\"u-min-width-none u-flex-grow\"><div class=\"web_ui__Cell__cell web_ui__Cell__tight\" data-testid=\"product-item-id-6642485319--description\" role=\"presentation\"><div class=\"web_ui__Cell__content\"><div class=\"web_ui__Cell__body\" data-testid=\"product-item-id-6642485319--description--content\"><div class=\"u-flexbox u-justify-content-between\"><div class=\"new-item-box__description\"><p class=\"web_ui__Text__text web_ui__Text__caption web_ui__Text__left web_ui__Text__truncated\" data-testid=\"product-item-id-6642485319--description-title\">Loro Piana</p></div></div><div class=\"new-item-box__description\"><p class=\"web_ui__Text__text web_ui__Text__caption web_ui__Text__left web_ui__Text__truncated\" data-testid=\"product-item-id-6642485319--description-subtitle\">L · Very good</p></div></div></div></div></div></div><div><div class=\"new-item-box__title\" data-testid=\"product-item-id-6642485319--title-container\"><div class=\"title-content\"><p class=\"web_ui__Text__text web_ui__Text__caption web_ui__Text__left web_ui__Text__muted\" data-testid=\"product-item-id-6642485319--price-text\">£99.00</p></div></div><div data-testid=\"product-item-id-6642485319--breakdown\"><div class=\"u-flexbox u-align-items-flex-start\"><button aria-label=\"£104.65 includes Buyer Protection\" class=\"u-flexbox u-align-items-center u-flex-wrap\" tabindex=\"0\" type=\"button\"><span class=\"u-flexbox u-align-items-baseline u-flex-wrap\"><span class=\"web_ui__Text__text web_ui__Text__subtitle web_ui__Text__left web_ui__Text__clickable web_ui__Text__underline-none\">£104.65</span><span class=\"web_ui__Spacer__x-small web_ui__Spacer__vertical\"></span><span class=\"web_ui__Text__text web_ui__Text__caption web_ui__Text__left web_ui__Text__clickable web_ui__Text__underline-none\" data-testid=\"service-fee-included-title\" tabindex=\"-1\">incl.</span></span><span class=\"web_ui__Spacer__x-small web_ui__Spacer__vertical\"></span><span class=\"web_ui__Icon__icon web_ui__Icon__primary-default\" data-testid=\"service-fee-included-icon\" style=\"width: 12px;\"><svg aria-hidden=\"true\" fill=\"none\" height=\"12\" viewbox=\"0 0 12 12\" width=\"12\"><path d=\"m7.924 4.114.708.707-2.829 2.828-2.121-2.121.707-.707 1.414 1.414z\" fill=\"currentColor\"></path><path clip-rule=\"evenodd\" d=\"M11 6c0 4.2-5 6-5 6s-5-1.8-5-6V1.8L6 0l5 1.8zM2 6V2.503l4-1.44 4 1.44V6c0 1.66-.98 2.902-2.115 3.787A9.4 9.4 0 0 1 6 10.917a9.368 9.368 0 0 1-1.885-1.13C2.981 8.902 2 7.66 2 6m3.66 5.06\" fill=\"currentColor\" fill-rule=\"evenodd\"></path></svg></span></button></div><div class=\"web_ui__Spacer__small web_ui__Spacer__horizontal\"></div></div></div></div></div></div></div></div></div></div></div></div>\u001b[0m\n\u001b[0m                                                                                                                                                                                                                                                                                                                                                                                                                                                                                                                                                                                                                                                                                                                                                                                                                                                                                                                                                                                                                                                                                                                                                                                                                                                                                                                                                                                                                                                                                                                                                                                                                                                                                                                                                                                                                                                                                                                                                                                                                                                                                                                                                                                                                                                                                                                                                                                                                                                                                                                                                                                                                                                                                                                                                                                                                                                                                                                                                                                                                                                                                                                                                                                                                                                                                                                                                                                                                                                                                                                                                                                                                                                                                                                                                                                                                                                                                                                                                                                                                                                                                                                                ^\u001b[0m\n\u001b[0;31mSyntaxError\u001b[0m\u001b[0;31m:\u001b[0m invalid character '·' (U+00B7)\n"
     ]
    }
   ],
   "source": [
    "<div class=\"feed-grid__item\" data-testid=\"grid-item\"><div class=\"feed-grid__item-content\"><div class=\"u-flex-grow u-fill-width\"><div class=\"new-item-box__container\" data-testid=\"product-item-id-6642485319\"><div class=\"u-position-relative u-min-height-none u-flex-auto new-item-box__image-container\"><div class=\"new-item-box__image\"><div class=\"web_ui__Image__image web_ui__Image__cover web_ui__Image__portrait web_ui__Image__rounded web_ui__Image__scaled web_ui__Image__ratio\" data-testid=\"product-item-id-6642485319--image\" style=\"background-color: rgb(215, 210, 206);\"><img alt=\"Gio Genco Loro Piana Italy L mens cashmere coat, brand: Loro Piana, condition: Very good, size: L, £99.00, £104.65 includes Buyer Protection\" class=\"web_ui__Image__content\" data-testid=\"product-item-id-6642485319--image--img\" src=\"https://images1.vinted.net/t/03_0244f_S4VNnoudNNf9gUTU2jFioJKZ/310x430/1751905811.jpeg?s=42c2bf9514b0f09a44ce34cc4e3fdd30d67549de\"/></div></div><div class=\"u-position-absolute u-right u-bottom u-zindex-bump\"><button aria-label=\"Add to favourites, favourited by 6 users\" aria-pressed=\"false\" class=\"u-background-white u-flexbox u-align-items-center new-item-box__favourite-icon\" data-testid=\"product-item-id-6642485319--favourite\" type=\"button\"><span class=\"web_ui__Icon__icon web_ui__Icon__greyscale-level-2\" data-testid=\"favourite-icon\" style=\"width: 16px;\"><svg aria-hidden=\"true\" fill=\"none\" height=\"16\" viewbox=\"0 0 16 16\" width=\"16\"><path d=\"M3.149 3.247c-1.03.662-1.462 1.67-1.392 2.79.073 1.146.68 2.425 1.797 3.477 1.608 1.515 3.4 2.968 4.31 3.688.081.064.19.064.271 0 .91-.72 2.702-2.173 4.31-3.688 1.117-1.052 1.725-2.331 1.798-3.476.07-1.12-.363-2.13-1.392-2.79-.576-.371-1.113-.498-1.591-.498-.673 0-1.317.366-1.843.819a6 6 0 0 0-.343.322l-.716.736a.5.5 0 0 1-.717 0l-.716-.736a5 5 0 0 0-.342-.322c-.526-.453-1.17-.819-1.843-.819-.48 0-1.015.127-1.591.497m-.811-1.262c.818-.526 1.636-.735 2.402-.735 1.2 0 2.186.634 2.822 1.182A7 7 0 0 1 8 2.845a7 7 0 0 1 .438-.413c.636-.548 1.621-1.182 2.822-1.182.765 0 1.583.21 2.402.735 1.529.983 2.18 2.535 2.078 4.147-.1 1.586-.92 3.206-2.267 4.474-1.654 1.559-3.485 3.043-4.407 3.772a1.715 1.715 0 0 1-2.132 0c-.922-.729-2.754-2.213-4.408-3.772C1.18 9.338.36 7.718.26 6.132.16 4.52.81 2.968 2.338 1.985\" fill=\"currentColor\"></path></svg></span><div class=\"web_ui__Spacer__small web_ui__Spacer__vertical\"></div><span class=\"web_ui__Text__text web_ui__Text__caption web_ui__Text__left\">6</span></button><span aria-live=\"polite\" class=\"u-visually-hidden\">Removed!</span></div><a class=\"new-item-box__overlay new-item-box__overlay--clickable\" data-testid=\"product-item-id-6642485319--overlay-link\" href=\"https://www.vinted.co.uk/items/6642485319-gio-genco-loro-piana-italy-l-mens-cashmere-coat?referrer=catalog\" title=\"Gio Genco Loro Piana Italy L mens cashmere coat, brand: Loro Piana, condition: Very good, size: L, £99.00, £104.65 includes Buyer Protection\"><div></div></a></div><div class=\"new-item-box__summary\"><div class=\"web_ui__Cell__cell web_ui__Cell__tight\" role=\"presentation\"><div class=\"web_ui__Cell__content\"><div class=\"web_ui__Cell__body\"><div><div class=\"u-flexbox u-align-items-flex-start u-ui-padding-bottom-regular\"><div class=\"u-min-width-none u-flex-grow\"><div class=\"web_ui__Cell__cell web_ui__Cell__tight\" data-testid=\"product-item-id-6642485319--description\" role=\"presentation\"><div class=\"web_ui__Cell__content\"><div class=\"web_ui__Cell__body\" data-testid=\"product-item-id-6642485319--description--content\"><div class=\"u-flexbox u-justify-content-between\"><div class=\"new-item-box__description\"><p class=\"web_ui__Text__text web_ui__Text__caption web_ui__Text__left web_ui__Text__truncated\" data-testid=\"product-item-id-6642485319--description-title\">Loro Piana</p></div></div><div class=\"new-item-box__description\"><p class=\"web_ui__Text__text web_ui__Text__caption web_ui__Text__left web_ui__Text__truncated\" data-testid=\"product-item-id-6642485319--description-subtitle\">L · Very good</p></div></div></div></div></div></div><div><div class=\"new-item-box__title\" data-testid=\"product-item-id-6642485319--title-container\"><div class=\"title-content\"><p class=\"web_ui__Text__text web_ui__Text__caption web_ui__Text__left web_ui__Text__muted\" data-testid=\"product-item-id-6642485319--price-text\">£99.00</p></div></div><div data-testid=\"product-item-id-6642485319--breakdown\"><div class=\"u-flexbox u-align-items-flex-start\"><button aria-label=\"£104.65 includes Buyer Protection\" class=\"u-flexbox u-align-items-center u-flex-wrap\" tabindex=\"0\" type=\"button\"><span class=\"u-flexbox u-align-items-baseline u-flex-wrap\"><span class=\"web_ui__Text__text web_ui__Text__subtitle web_ui__Text__left web_ui__Text__clickable web_ui__Text__underline-none\">£104.65</span><span class=\"web_ui__Spacer__x-small web_ui__Spacer__vertical\"></span><span class=\"web_ui__Text__text web_ui__Text__caption web_ui__Text__left web_ui__Text__clickable web_ui__Text__underline-none\" data-testid=\"service-fee-included-title\" tabindex=\"-1\">incl.</span></span><span class=\"web_ui__Spacer__x-small web_ui__Spacer__vertical\"></span><span class=\"web_ui__Icon__icon web_ui__Icon__primary-default\" data-testid=\"service-fee-included-icon\" style=\"width: 12px;\"><svg aria-hidden=\"true\" fill=\"none\" height=\"12\" viewbox=\"0 0 12 12\" width=\"12\"><path d=\"m7.924 4.114.708.707-2.829 2.828-2.121-2.121.707-.707 1.414 1.414z\" fill=\"currentColor\"></path><path clip-rule=\"evenodd\" d=\"M11 6c0 4.2-5 6-5 6s-5-1.8-5-6V1.8L6 0l5 1.8zM2 6V2.503l4-1.44 4 1.44V6c0 1.66-.98 2.902-2.115 3.787A9.4 9.4 0 0 1 6 10.917a9.368 9.368 0 0 1-1.885-1.13C2.981 8.902 2 7.66 2 6m3.66 5.06\" fill=\"currentColor\" fill-rule=\"evenodd\"></path></svg></span></button></div><div class=\"web_ui__Spacer__small web_ui__Spacer__horizontal\"></div></div></div></div></div></div></div></div></div></div></div></div>"
   ]
  },
  {
   "cell_type": "code",
   "execution_count": null,
   "metadata": {},
   "outputs": [
    {
     "ename": "KeyError",
     "evalue": "'currentColor'",
     "output_type": "error",
     "traceback": [
      "\u001b[0;31m---------------------------------------------------------------------------\u001b[0m",
      "\u001b[0;31mKeyError\u001b[0m                                  Traceback (most recent call last)",
      "Cell \u001b[0;32mIn[21], line 1\u001b[0m\n\u001b[0;32m----> 1\u001b[0m x \u001b[38;5;241m=\u001b[39m \u001b[43marticles\u001b[49m\u001b[43m[\u001b[49m\u001b[38;5;241;43m0\u001b[39;49m\u001b[43m]\u001b[49m\u001b[43m[\u001b[49m\u001b[38;5;124;43m'\u001b[39;49m\u001b[38;5;124;43mcurrentColor\u001b[39;49m\u001b[38;5;124;43m'\u001b[39;49m\u001b[43m]\u001b[49m\n",
      "File \u001b[0;32m~/miniconda3/envs/tf/lib/python3.10/site-packages/bs4/element.py:1573\u001b[0m, in \u001b[0;36mTag.__getitem__\u001b[0;34m(self, key)\u001b[0m\n\u001b[1;32m   1570\u001b[0m \u001b[38;5;28;01mdef\u001b[39;00m \u001b[38;5;21m__getitem__\u001b[39m(\u001b[38;5;28mself\u001b[39m, key):\n\u001b[1;32m   1571\u001b[0m \u001b[38;5;250m    \u001b[39m\u001b[38;5;124;03m\"\"\"tag[key] returns the value of the 'key' attribute for the Tag,\u001b[39;00m\n\u001b[1;32m   1572\u001b[0m \u001b[38;5;124;03m    and throws an exception if it's not there.\"\"\"\u001b[39;00m\n\u001b[0;32m-> 1573\u001b[0m     \u001b[38;5;28;01mreturn\u001b[39;00m \u001b[38;5;28;43mself\u001b[39;49m\u001b[38;5;241;43m.\u001b[39;49m\u001b[43mattrs\u001b[49m\u001b[43m[\u001b[49m\u001b[43mkey\u001b[49m\u001b[43m]\u001b[49m\n",
      "\u001b[0;31mKeyError\u001b[0m: 'currentColor'"
     ]
    }
   ],
   "source": [
    "x = articles[0][\"currentColor\"]"
   ]
  },
  {
   "cell_type": "code",
   "execution_count": 2,
   "metadata": {},
   "outputs": [
    {
     "name": "stdout",
     "output_type": "stream",
     "text": [
      "Requirement already satisfied: vinted_scraper in /Users/hjalmarheld/miniconda3/envs/tf/lib/python3.10/site-packages (2.4.0)\n",
      "Requirement already satisfied: deprecated in /Users/hjalmarheld/miniconda3/envs/tf/lib/python3.10/site-packages (from vinted_scraper) (1.2.18)\n",
      "Requirement already satisfied: requests in /Users/hjalmarheld/miniconda3/envs/tf/lib/python3.10/site-packages (from vinted_scraper) (2.28.1)\n",
      "Requirement already satisfied: wrapt<2,>=1.10 in /Users/hjalmarheld/miniconda3/envs/tf/lib/python3.10/site-packages (from deprecated->vinted_scraper) (1.14.1)\n",
      "Requirement already satisfied: urllib3<1.27,>=1.21.1 in /Users/hjalmarheld/miniconda3/envs/tf/lib/python3.10/site-packages (from requests->vinted_scraper) (1.26.13)\n",
      "Requirement already satisfied: charset-normalizer<3,>=2 in /Users/hjalmarheld/miniconda3/envs/tf/lib/python3.10/site-packages (from requests->vinted_scraper) (2.1.1)\n",
      "Requirement already satisfied: certifi>=2017.4.17 in /Users/hjalmarheld/miniconda3/envs/tf/lib/python3.10/site-packages (from requests->vinted_scraper) (2022.12.7)\n",
      "Requirement already satisfied: idna<4,>=2.5 in /Users/hjalmarheld/miniconda3/envs/tf/lib/python3.10/site-packages (from requests->vinted_scraper) (2.10)\n"
     ]
    }
   ],
   "source": [
    "! pip install vinted_scraper"
   ]
  },
  {
   "cell_type": "code",
   "execution_count": 3,
   "metadata": {},
   "outputs": [],
   "source": [
    "from vinted_scraper import VintedScraper\n",
    "\n",
    "scraper = VintedScraper(\"https://www.vinted.co.uk\")  # init the scraper with the baseurl\n",
    "params = {\n",
    "    \"search_text\": \"loro piana\"\n",
    "    # Add other query parameters like the pagination and so on\n",
    "}\n",
    "items = scraper.search(params)"
   ]
  },
  {
   "cell_type": "code",
   "execution_count": null,
   "metadata": {},
   "outputs": [
    {
     "data": {
      "text/plain": [
       "8.0"
      ]
     },
     "execution_count": 9,
     "metadata": {},
     "output_type": "execute_result"
    }
   ],
   "source": []
  },
  {
   "cell_type": "code",
   "execution_count": null,
   "metadata": {},
   "outputs": [],
   "source": []
  }
 ],
 "metadata": {
  "kernelspec": {
   "display_name": "tf",
   "language": "python",
   "name": "python3"
  },
  "language_info": {
   "codemirror_mode": {
    "name": "ipython",
    "version": 3
   },
   "file_extension": ".py",
   "mimetype": "text/x-python",
   "name": "python",
   "nbconvert_exporter": "python",
   "pygments_lexer": "ipython3",
   "version": "3.10.8"
  }
 },
 "nbformat": 4,
 "nbformat_minor": 2
}
